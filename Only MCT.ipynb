{
 "cells": [
  {
   "cell_type": "code",
   "execution_count": 1,
   "id": "a668820d",
   "metadata": {},
   "outputs": [],
   "source": [
    "import pandas as pd"
   ]
  },
  {
   "cell_type": "code",
   "execution_count": 2,
   "id": "e2026627",
   "metadata": {},
   "outputs": [
    {
     "data": {
      "text/html": [
       "<div>\n",
       "<style scoped>\n",
       "    .dataframe tbody tr th:only-of-type {\n",
       "        vertical-align: middle;\n",
       "    }\n",
       "\n",
       "    .dataframe tbody tr th {\n",
       "        vertical-align: top;\n",
       "    }\n",
       "\n",
       "    .dataframe thead th {\n",
       "        text-align: right;\n",
       "    }\n",
       "</style>\n",
       "<table border=\"1\" class=\"dataframe\">\n",
       "  <thead>\n",
       "    <tr style=\"text-align: right;\">\n",
       "      <th></th>\n",
       "      <th>jobs</th>\n",
       "      <th>machines</th>\n",
       "      <th>numInd</th>\n",
       "      <th>numGen</th>\n",
       "      <th>makespan</th>\n",
       "      <th>to_matrix_percentage</th>\n",
       "      <th>elitismo</th>\n",
       "      <th>exec_time</th>\n",
       "      <th>instance</th>\n",
       "      <th>selection_method</th>\n",
       "    </tr>\n",
       "  </thead>\n",
       "  <tbody>\n",
       "    <tr>\n",
       "      <th>0</th>\n",
       "      <td>512</td>\n",
       "      <td>16</td>\n",
       "      <td>100</td>\n",
       "      <td>100</td>\n",
       "      <td>11927354.172</td>\n",
       "      <td>0.300</td>\n",
       "      <td>10.000</td>\n",
       "      <td>67.844</td>\n",
       "      <td>u_c_hihi.0</td>\n",
       "      <td>roulette wheel</td>\n",
       "    </tr>\n",
       "    <tr>\n",
       "      <th>1</th>\n",
       "      <td>512</td>\n",
       "      <td>16</td>\n",
       "      <td>100</td>\n",
       "      <td>100</td>\n",
       "      <td>11985774.477</td>\n",
       "      <td>0.300</td>\n",
       "      <td>20.000</td>\n",
       "      <td>69.568</td>\n",
       "      <td>u_c_hihi.0</td>\n",
       "      <td>roulette wheel</td>\n",
       "    </tr>\n",
       "    <tr>\n",
       "      <th>2</th>\n",
       "      <td>512</td>\n",
       "      <td>16</td>\n",
       "      <td>100</td>\n",
       "      <td>100</td>\n",
       "      <td>12896431.281</td>\n",
       "      <td>0.300</td>\n",
       "      <td>30.000</td>\n",
       "      <td>59.787</td>\n",
       "      <td>u_c_hihi.0</td>\n",
       "      <td>roulette wheel</td>\n",
       "    </tr>\n",
       "    <tr>\n",
       "      <th>3</th>\n",
       "      <td>512</td>\n",
       "      <td>16</td>\n",
       "      <td>100</td>\n",
       "      <td>100</td>\n",
       "      <td>12176266.383</td>\n",
       "      <td>0.500</td>\n",
       "      <td>10.000</td>\n",
       "      <td>70.078</td>\n",
       "      <td>u_c_hihi.0</td>\n",
       "      <td>roulette wheel</td>\n",
       "    </tr>\n",
       "    <tr>\n",
       "      <th>4</th>\n",
       "      <td>512</td>\n",
       "      <td>16</td>\n",
       "      <td>100</td>\n",
       "      <td>100</td>\n",
       "      <td>13009597.703</td>\n",
       "      <td>0.500</td>\n",
       "      <td>20.000</td>\n",
       "      <td>89.591</td>\n",
       "      <td>u_c_hihi.0</td>\n",
       "      <td>roulette wheel</td>\n",
       "    </tr>\n",
       "  </tbody>\n",
       "</table>\n",
       "</div>"
      ],
      "text/plain": [
       "   jobs  machines  numInd  numGen     makespan  to_matrix_percentage  \\\n",
       "0   512        16     100     100 11927354.172                 0.300   \n",
       "1   512        16     100     100 11985774.477                 0.300   \n",
       "2   512        16     100     100 12896431.281                 0.300   \n",
       "3   512        16     100     100 12176266.383                 0.500   \n",
       "4   512        16     100     100 13009597.703                 0.500   \n",
       "\n",
       "   elitismo  exec_time    instance selection_method  \n",
       "0    10.000     67.844  u_c_hihi.0   roulette wheel  \n",
       "1    20.000     69.568  u_c_hihi.0   roulette wheel  \n",
       "2    30.000     59.787  u_c_hihi.0   roulette wheel  \n",
       "3    10.000     70.078  u_c_hihi.0   roulette wheel  \n",
       "4    20.000     89.591  u_c_hihi.0   roulette wheel  "
      ]
     },
     "execution_count": 2,
     "metadata": {},
     "output_type": "execute_result"
    }
   ],
   "source": [
    "df = pd.read_csv('results_only_mct.csv',index_col=0)\n",
    "df.style.format(\"{:.2f}\")\n",
    "pd.set_option('display.float_format', lambda x: '%.3f' % x)\n",
    "df.head()"
   ]
  },
  {
   "cell_type": "code",
   "execution_count": 3,
   "id": "8f1826d1",
   "metadata": {},
   "outputs": [
    {
     "data": {
      "text/plain": [
       "jobs                               512\n",
       "machines                            16\n",
       "numInd                             100\n",
       "numGen                             100\n",
       "makespan                      6074.481\n",
       "to_matrix_percentage             0.300\n",
       "elitismo                        10.000\n",
       "exec_time                       63.061\n",
       "instance                    u_c_lolo.0\n",
       "selection_method        roulette wheel\n",
       "dtype: object"
      ]
     },
     "execution_count": 3,
     "metadata": {},
     "output_type": "execute_result"
    }
   ],
   "source": [
    "df.loc[df['instance'] == 'u_c_lolo.0'].min()"
   ]
  },
  {
   "cell_type": "code",
   "execution_count": 4,
   "id": "b31498c0",
   "metadata": {},
   "outputs": [
    {
     "data": {
      "text/plain": [
       "jobs                               512\n",
       "machines                            16\n",
       "numInd                             100\n",
       "numGen                             100\n",
       "makespan                    351362.174\n",
       "to_matrix_percentage             0.300\n",
       "elitismo                        10.000\n",
       "exec_time                       59.968\n",
       "instance                    u_c_lohi.0\n",
       "selection_method        roulette wheel\n",
       "dtype: object"
      ]
     },
     "execution_count": 4,
     "metadata": {},
     "output_type": "execute_result"
    }
   ],
   "source": [
    "df.loc[df['instance'] == 'u_c_lohi.0'].min()"
   ]
  },
  {
   "cell_type": "code",
   "execution_count": 5,
   "id": "c0be7512",
   "metadata": {},
   "outputs": [
    {
     "data": {
      "text/plain": [
       "jobs                               512\n",
       "machines                            16\n",
       "numInd                             100\n",
       "numGen                             100\n",
       "makespan                    182837.338\n",
       "to_matrix_percentage             0.300\n",
       "elitismo                        10.000\n",
       "exec_time                       63.300\n",
       "instance                    u_c_hilo.0\n",
       "selection_method        roulette wheel\n",
       "dtype: object"
      ]
     },
     "execution_count": 5,
     "metadata": {},
     "output_type": "execute_result"
    }
   ],
   "source": [
    "df.loc[df['instance'] == 'u_c_hilo.0'].min()"
   ]
  },
  {
   "cell_type": "code",
   "execution_count": 6,
   "id": "9d13924c",
   "metadata": {},
   "outputs": [
    {
     "data": {
      "text/plain": [
       "jobs                               512\n",
       "machines                            16\n",
       "numInd                             100\n",
       "numGen                             100\n",
       "makespan                  10918154.750\n",
       "to_matrix_percentage             0.300\n",
       "elitismo                        10.000\n",
       "exec_time                       59.787\n",
       "instance                    u_c_hihi.0\n",
       "selection_method        roulette wheel\n",
       "dtype: object"
      ]
     },
     "execution_count": 6,
     "metadata": {},
     "output_type": "execute_result"
    }
   ],
   "source": [
    "df.loc[df['instance'] == 'u_c_hihi.0'].min()"
   ]
  },
  {
   "cell_type": "code",
   "execution_count": null,
   "id": "55d70a55",
   "metadata": {},
   "outputs": [],
   "source": []
  },
  {
   "cell_type": "code",
   "execution_count": null,
   "id": "b8da028e",
   "metadata": {},
   "outputs": [],
   "source": []
  },
  {
   "cell_type": "code",
   "execution_count": null,
   "id": "89bcfc61",
   "metadata": {},
   "outputs": [],
   "source": []
  }
 ],
 "metadata": {
  "kernelspec": {
   "display_name": "Python 3",
   "language": "python",
   "name": "python3"
  },
  "language_info": {
   "codemirror_mode": {
    "name": "ipython",
    "version": 3
   },
   "file_extension": ".py",
   "mimetype": "text/x-python",
   "name": "python",
   "nbconvert_exporter": "python",
   "pygments_lexer": "ipython3",
   "version": "3.8.10"
  }
 },
 "nbformat": 4,
 "nbformat_minor": 5
}
