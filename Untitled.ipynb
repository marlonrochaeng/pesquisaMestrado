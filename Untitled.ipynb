{
 "cells": [
  {
   "cell_type": "code",
   "execution_count": 2,
   "id": "a668820d",
   "metadata": {},
   "outputs": [],
   "source": [
    "import pandas as pd"
   ]
  },
  {
   "cell_type": "code",
   "execution_count": 3,
   "id": "e45f69cd",
   "metadata": {},
   "outputs": [
    {
     "data": {
      "text/html": [
       "<div>\n",
       "<style scoped>\n",
       "    .dataframe tbody tr th:only-of-type {\n",
       "        vertical-align: middle;\n",
       "    }\n",
       "\n",
       "    .dataframe tbody tr th {\n",
       "        vertical-align: top;\n",
       "    }\n",
       "\n",
       "    .dataframe thead th {\n",
       "        text-align: right;\n",
       "    }\n",
       "</style>\n",
       "<table border=\"1\" class=\"dataframe\">\n",
       "  <thead>\n",
       "    <tr style=\"text-align: right;\">\n",
       "      <th></th>\n",
       "      <th>jobs</th>\n",
       "      <th>machines</th>\n",
       "      <th>numInd</th>\n",
       "      <th>numGen</th>\n",
       "      <th>makespan</th>\n",
       "      <th>to_matrix_percentage</th>\n",
       "      <th>elitismo</th>\n",
       "      <th>exec_time</th>\n",
       "      <th>selection_method</th>\n",
       "      <th>instance</th>\n",
       "    </tr>\n",
       "  </thead>\n",
       "  <tbody>\n",
       "    <tr>\n",
       "      <th>0</th>\n",
       "      <td>512</td>\n",
       "      <td>16</td>\n",
       "      <td>100</td>\n",
       "      <td>100</td>\n",
       "      <td>1.615996e+07</td>\n",
       "      <td>0.3</td>\n",
       "      <td>10.0</td>\n",
       "      <td>180.062051</td>\n",
       "      <td>roulette wheel</td>\n",
       "      <td>u_c_hihi.0</td>\n",
       "    </tr>\n",
       "    <tr>\n",
       "      <th>1</th>\n",
       "      <td>512</td>\n",
       "      <td>16</td>\n",
       "      <td>100</td>\n",
       "      <td>100</td>\n",
       "      <td>1.839447e+07</td>\n",
       "      <td>0.3</td>\n",
       "      <td>20.0</td>\n",
       "      <td>156.559321</td>\n",
       "      <td>roulette wheel</td>\n",
       "      <td>u_c_hihi.0</td>\n",
       "    </tr>\n",
       "    <tr>\n",
       "      <th>2</th>\n",
       "      <td>512</td>\n",
       "      <td>16</td>\n",
       "      <td>100</td>\n",
       "      <td>100</td>\n",
       "      <td>2.152728e+07</td>\n",
       "      <td>0.3</td>\n",
       "      <td>30.0</td>\n",
       "      <td>132.307775</td>\n",
       "      <td>roulette wheel</td>\n",
       "      <td>u_c_hihi.0</td>\n",
       "    </tr>\n",
       "    <tr>\n",
       "      <th>3</th>\n",
       "      <td>512</td>\n",
       "      <td>16</td>\n",
       "      <td>100</td>\n",
       "      <td>100</td>\n",
       "      <td>1.845408e+07</td>\n",
       "      <td>0.5</td>\n",
       "      <td>10.0</td>\n",
       "      <td>170.584546</td>\n",
       "      <td>roulette wheel</td>\n",
       "      <td>u_c_hihi.0</td>\n",
       "    </tr>\n",
       "    <tr>\n",
       "      <th>4</th>\n",
       "      <td>512</td>\n",
       "      <td>16</td>\n",
       "      <td>100</td>\n",
       "      <td>100</td>\n",
       "      <td>1.925616e+07</td>\n",
       "      <td>0.5</td>\n",
       "      <td>20.0</td>\n",
       "      <td>151.707929</td>\n",
       "      <td>roulette wheel</td>\n",
       "      <td>u_c_hihi.0</td>\n",
       "    </tr>\n",
       "  </tbody>\n",
       "</table>\n",
       "</div>"
      ],
      "text/plain": [
       "   jobs  machines  numInd  numGen      makespan  to_matrix_percentage  \\\n",
       "0   512        16     100     100  1.615996e+07                   0.3   \n",
       "1   512        16     100     100  1.839447e+07                   0.3   \n",
       "2   512        16     100     100  2.152728e+07                   0.3   \n",
       "3   512        16     100     100  1.845408e+07                   0.5   \n",
       "4   512        16     100     100  1.925616e+07                   0.5   \n",
       "\n",
       "   elitismo   exec_time selection_method    instance  \n",
       "0      10.0  180.062051   roulette wheel  u_c_hihi.0  \n",
       "1      20.0  156.559321   roulette wheel  u_c_hihi.0  \n",
       "2      30.0  132.307775   roulette wheel  u_c_hihi.0  \n",
       "3      10.0  170.584546   roulette wheel  u_c_hihi.0  \n",
       "4      20.0  151.707929   roulette wheel  u_c_hihi.0  "
      ]
     },
     "execution_count": 3,
     "metadata": {},
     "output_type": "execute_result"
    }
   ],
   "source": [
    "df = pd.read_csv('results.csv',index_col=0)\n",
    "df.head()"
   ]
  },
  {
   "cell_type": "code",
   "execution_count": 4,
   "id": "82e507d1",
   "metadata": {},
   "outputs": [
    {
     "data": {
      "text/plain": [
       "88"
      ]
     },
     "execution_count": 4,
     "metadata": {},
     "output_type": "execute_result"
    }
   ],
   "source": [
    "len(df)"
   ]
  },
  {
   "cell_type": "code",
   "execution_count": 5,
   "id": "e2026627",
   "metadata": {},
   "outputs": [
    {
     "data": {
      "text/html": [
       "<div>\n",
       "<style scoped>\n",
       "    .dataframe tbody tr th:only-of-type {\n",
       "        vertical-align: middle;\n",
       "    }\n",
       "\n",
       "    .dataframe tbody tr th {\n",
       "        vertical-align: top;\n",
       "    }\n",
       "\n",
       "    .dataframe thead th {\n",
       "        text-align: right;\n",
       "    }\n",
       "</style>\n",
       "<table border=\"1\" class=\"dataframe\">\n",
       "  <thead>\n",
       "    <tr style=\"text-align: right;\">\n",
       "      <th></th>\n",
       "      <th>jobs</th>\n",
       "      <th>machines</th>\n",
       "      <th>numInd</th>\n",
       "      <th>numGen</th>\n",
       "      <th>makespan</th>\n",
       "      <th>to_matrix_percentage</th>\n",
       "      <th>elitismo</th>\n",
       "      <th>exec_time</th>\n",
       "      <th>selection_method</th>\n",
       "      <th>instance</th>\n",
       "    </tr>\n",
       "  </thead>\n",
       "  <tbody>\n",
       "    <tr>\n",
       "      <th>87</th>\n",
       "      <td>512</td>\n",
       "      <td>16</td>\n",
       "      <td>500</td>\n",
       "      <td>500</td>\n",
       "      <td>8041.233306</td>\n",
       "      <td>0.3</td>\n",
       "      <td>10.0</td>\n",
       "      <td>4665.347427</td>\n",
       "      <td>roulette wheel</td>\n",
       "      <td>u_c_lolo.0</td>\n",
       "    </tr>\n",
       "  </tbody>\n",
       "</table>\n",
       "</div>"
      ],
      "text/plain": [
       "    jobs  machines  numInd  numGen     makespan  to_matrix_percentage  \\\n",
       "87   512        16     500     500  8041.233306                   0.3   \n",
       "\n",
       "    elitismo    exec_time selection_method    instance  \n",
       "87      10.0  4665.347427   roulette wheel  u_c_lolo.0  "
      ]
     },
     "execution_count": 5,
     "metadata": {},
     "output_type": "execute_result"
    }
   ],
   "source": [
    "df[(df['makespan']==df['makespan'].min())]"
   ]
  },
  {
   "cell_type": "code",
   "execution_count": 6,
   "id": "8f1826d1",
   "metadata": {},
   "outputs": [
    {
     "data": {
      "text/plain": [
       "jobs                               512\n",
       "machines                            16\n",
       "numInd                             500\n",
       "numGen                             500\n",
       "makespan                       8041.23\n",
       "to_matrix_percentage               0.3\n",
       "elitismo                            10\n",
       "exec_time                      4665.35\n",
       "selection_method        roulette wheel\n",
       "instance                    u_c_lolo.0\n",
       "dtype: object"
      ]
     },
     "execution_count": 6,
     "metadata": {},
     "output_type": "execute_result"
    }
   ],
   "source": [
    "df.loc[df['instance'] == 'u_c_lolo.0'].min()"
   ]
  },
  {
   "cell_type": "code",
   "execution_count": 7,
   "id": "b31498c0",
   "metadata": {},
   "outputs": [
    {
     "data": {
      "text/plain": [
       "jobs                               512\n",
       "machines                            16\n",
       "numInd                             500\n",
       "numGen                             500\n",
       "makespan                        355174\n",
       "to_matrix_percentage               0.3\n",
       "elitismo                            10\n",
       "exec_time                      4456.07\n",
       "selection_method        roulette wheel\n",
       "instance                    u_c_lohi.0\n",
       "dtype: object"
      ]
     },
     "execution_count": 7,
     "metadata": {},
     "output_type": "execute_result"
    }
   ],
   "source": [
    "df.loc[df['instance'] == 'u_c_lohi.0'].min()"
   ]
  },
  {
   "cell_type": "code",
   "execution_count": 8,
   "id": "7490a693",
   "metadata": {},
   "outputs": [
    {
     "data": {
      "text/plain": [
       "jobs                               512\n",
       "machines                            16\n",
       "numInd                             500\n",
       "numGen                             500\n",
       "makespan                        240264\n",
       "to_matrix_percentage               0.3\n",
       "elitismo                            10\n",
       "exec_time                      3769.65\n",
       "selection_method        roulette wheel\n",
       "instance                    u_c_hilo.0\n",
       "dtype: object"
      ]
     },
     "execution_count": 8,
     "metadata": {},
     "output_type": "execute_result"
    }
   ],
   "source": [
    "df.loc[df['instance'] == 'u_c_hilo.0'].min()"
   ]
  },
  {
   "cell_type": "code",
   "execution_count": 9,
   "id": "502bc077",
   "metadata": {},
   "outputs": [
    {
     "data": {
      "text/plain": [
       "jobs                               512\n",
       "machines                            16\n",
       "numInd                             100\n",
       "numGen                             100\n",
       "makespan                    1.0477e+07\n",
       "to_matrix_percentage               0.3\n",
       "elitismo                            10\n",
       "exec_time                      54.0222\n",
       "selection_method        roulette wheel\n",
       "instance                    u_c_hihi.0\n",
       "dtype: object"
      ]
     },
     "execution_count": 9,
     "metadata": {},
     "output_type": "execute_result"
    }
   ],
   "source": [
    "df.loc[df['instance'] == 'u_c_hihi.0'].min()"
   ]
  },
  {
   "cell_type": "code",
   "execution_count": null,
   "id": "d168eff5",
   "metadata": {},
   "outputs": [],
   "source": []
  }
 ],
 "metadata": {
  "kernelspec": {
   "display_name": "Python 3",
   "language": "python",
   "name": "python3"
  },
  "language_info": {
   "codemirror_mode": {
    "name": "ipython",
    "version": 3
   },
   "file_extension": ".py",
   "mimetype": "text/x-python",
   "name": "python",
   "nbconvert_exporter": "python",
   "pygments_lexer": "ipython3",
   "version": "3.8.10"
  }
 },
 "nbformat": 4,
 "nbformat_minor": 5
}
