{
 "cells": [
  {
   "cell_type": "code",
   "execution_count": 12,
   "id": "a668820d",
   "metadata": {},
   "outputs": [],
   "source": [
    "import pandas as pd"
   ]
  },
  {
   "cell_type": "code",
   "execution_count": 13,
   "id": "e45f69cd",
   "metadata": {},
   "outputs": [
    {
     "data": {
      "text/html": [
       "<div>\n",
       "<style scoped>\n",
       "    .dataframe tbody tr th:only-of-type {\n",
       "        vertical-align: middle;\n",
       "    }\n",
       "\n",
       "    .dataframe tbody tr th {\n",
       "        vertical-align: top;\n",
       "    }\n",
       "\n",
       "    .dataframe thead th {\n",
       "        text-align: right;\n",
       "    }\n",
       "</style>\n",
       "<table border=\"1\" class=\"dataframe\">\n",
       "  <thead>\n",
       "    <tr style=\"text-align: right;\">\n",
       "      <th></th>\n",
       "      <th>jobs</th>\n",
       "      <th>machines</th>\n",
       "      <th>numInd</th>\n",
       "      <th>numGen</th>\n",
       "      <th>makespan</th>\n",
       "      <th>to_matrix_percentage</th>\n",
       "      <th>elitismo</th>\n",
       "      <th>exec_time</th>\n",
       "      <th>instance</th>\n",
       "      <th>selection_method</th>\n",
       "    </tr>\n",
       "  </thead>\n",
       "  <tbody>\n",
       "    <tr>\n",
       "      <th>0</th>\n",
       "      <td>512</td>\n",
       "      <td>16</td>\n",
       "      <td>100</td>\n",
       "      <td>100</td>\n",
       "      <td>5612.755746</td>\n",
       "      <td>0.3</td>\n",
       "      <td>10.0</td>\n",
       "      <td>63.225548</td>\n",
       "      <td>u_c_lolo.0</td>\n",
       "      <td>roulette wheel</td>\n",
       "    </tr>\n",
       "    <tr>\n",
       "      <th>1</th>\n",
       "      <td>512</td>\n",
       "      <td>16</td>\n",
       "      <td>100</td>\n",
       "      <td>100</td>\n",
       "      <td>5515.308419</td>\n",
       "      <td>0.3</td>\n",
       "      <td>10.0</td>\n",
       "      <td>63.553843</td>\n",
       "      <td>u_c_lolo.0</td>\n",
       "      <td>roulette wheel</td>\n",
       "    </tr>\n",
       "    <tr>\n",
       "      <th>2</th>\n",
       "      <td>512</td>\n",
       "      <td>16</td>\n",
       "      <td>100</td>\n",
       "      <td>200</td>\n",
       "      <td>5339.037868</td>\n",
       "      <td>0.3</td>\n",
       "      <td>10.0</td>\n",
       "      <td>115.151239</td>\n",
       "      <td>u_c_lolo.0</td>\n",
       "      <td>roulette wheel</td>\n",
       "    </tr>\n",
       "    <tr>\n",
       "      <th>3</th>\n",
       "      <td>512</td>\n",
       "      <td>16</td>\n",
       "      <td>100</td>\n",
       "      <td>500</td>\n",
       "      <td>5611.637985</td>\n",
       "      <td>0.3</td>\n",
       "      <td>10.0</td>\n",
       "      <td>278.428141</td>\n",
       "      <td>u_c_lolo.0</td>\n",
       "      <td>roulette wheel</td>\n",
       "    </tr>\n",
       "    <tr>\n",
       "      <th>4</th>\n",
       "      <td>512</td>\n",
       "      <td>16</td>\n",
       "      <td>200</td>\n",
       "      <td>100</td>\n",
       "      <td>6985.581984</td>\n",
       "      <td>0.3</td>\n",
       "      <td>10.0</td>\n",
       "      <td>160.177799</td>\n",
       "      <td>u_c_lolo.0</td>\n",
       "      <td>roulette wheel</td>\n",
       "    </tr>\n",
       "  </tbody>\n",
       "</table>\n",
       "</div>"
      ],
      "text/plain": [
       "   jobs  machines  numInd  numGen     makespan  to_matrix_percentage  \\\n",
       "0   512        16     100     100  5612.755746                   0.3   \n",
       "1   512        16     100     100  5515.308419                   0.3   \n",
       "2   512        16     100     200  5339.037868                   0.3   \n",
       "3   512        16     100     500  5611.637985                   0.3   \n",
       "4   512        16     200     100  6985.581984                   0.3   \n",
       "\n",
       "   elitismo   exec_time    instance selection_method  \n",
       "0      10.0   63.225548  u_c_lolo.0   roulette wheel  \n",
       "1      10.0   63.553843  u_c_lolo.0   roulette wheel  \n",
       "2      10.0  115.151239  u_c_lolo.0   roulette wheel  \n",
       "3      10.0  278.428141  u_c_lolo.0   roulette wheel  \n",
       "4      10.0  160.177799  u_c_lolo.0   roulette wheel  "
      ]
     },
     "execution_count": 13,
     "metadata": {},
     "output_type": "execute_result"
    }
   ],
   "source": [
    "df = pd.read_csv('results.csv',index_col=0)\n",
    "df.style.format(\"{:.2f}\")\n",
    "df.head()"
   ]
  },
  {
   "cell_type": "code",
   "execution_count": 14,
   "id": "82e507d1",
   "metadata": {},
   "outputs": [
    {
     "data": {
      "text/plain": [
       "37"
      ]
     },
     "execution_count": 14,
     "metadata": {},
     "output_type": "execute_result"
    }
   ],
   "source": [
    "len(df)"
   ]
  },
  {
   "cell_type": "code",
   "execution_count": 15,
   "id": "e2026627",
   "metadata": {},
   "outputs": [
    {
     "data": {
      "text/html": [
       "<div>\n",
       "<style scoped>\n",
       "    .dataframe tbody tr th:only-of-type {\n",
       "        vertical-align: middle;\n",
       "    }\n",
       "\n",
       "    .dataframe tbody tr th {\n",
       "        vertical-align: top;\n",
       "    }\n",
       "\n",
       "    .dataframe thead th {\n",
       "        text-align: right;\n",
       "    }\n",
       "</style>\n",
       "<table border=\"1\" class=\"dataframe\">\n",
       "  <thead>\n",
       "    <tr style=\"text-align: right;\">\n",
       "      <th></th>\n",
       "      <th>jobs</th>\n",
       "      <th>machines</th>\n",
       "      <th>numInd</th>\n",
       "      <th>numGen</th>\n",
       "      <th>makespan</th>\n",
       "      <th>to_matrix_percentage</th>\n",
       "      <th>elitismo</th>\n",
       "      <th>exec_time</th>\n",
       "      <th>instance</th>\n",
       "      <th>selection_method</th>\n",
       "    </tr>\n",
       "  </thead>\n",
       "  <tbody>\n",
       "    <tr>\n",
       "      <th>2</th>\n",
       "      <td>512</td>\n",
       "      <td>16</td>\n",
       "      <td>100</td>\n",
       "      <td>200</td>\n",
       "      <td>5339.037868</td>\n",
       "      <td>0.3</td>\n",
       "      <td>10.0</td>\n",
       "      <td>115.151239</td>\n",
       "      <td>u_c_lolo.0</td>\n",
       "      <td>roulette wheel</td>\n",
       "    </tr>\n",
       "  </tbody>\n",
       "</table>\n",
       "</div>"
      ],
      "text/plain": [
       "   jobs  machines  numInd  numGen     makespan  to_matrix_percentage  \\\n",
       "2   512        16     100     200  5339.037868                   0.3   \n",
       "\n",
       "   elitismo   exec_time    instance selection_method  \n",
       "2      10.0  115.151239  u_c_lolo.0   roulette wheel  "
      ]
     },
     "execution_count": 15,
     "metadata": {},
     "output_type": "execute_result"
    }
   ],
   "source": [
    "df[(df['makespan']==df['makespan'].min())]"
   ]
  },
  {
   "cell_type": "code",
   "execution_count": 16,
   "id": "8f1826d1",
   "metadata": {},
   "outputs": [
    {
     "data": {
      "text/plain": [
       "jobs                               512\n",
       "machines                            16\n",
       "numInd                             100\n",
       "numGen                             100\n",
       "makespan                       5339.04\n",
       "to_matrix_percentage               0.3\n",
       "elitismo                            10\n",
       "exec_time                      63.2255\n",
       "instance                    u_c_lolo.0\n",
       "selection_method        roulette wheel\n",
       "dtype: object"
      ]
     },
     "execution_count": 16,
     "metadata": {},
     "output_type": "execute_result"
    }
   ],
   "source": [
    "df.loc[df['instance'] == 'u_c_lolo.0'].min()"
   ]
  },
  {
   "cell_type": "code",
   "execution_count": 17,
   "id": "b31498c0",
   "metadata": {},
   "outputs": [
    {
     "data": {
      "text/plain": [
       "jobs                               512\n",
       "machines                            16\n",
       "numInd                             100\n",
       "numGen                             100\n",
       "makespan                        264738\n",
       "to_matrix_percentage               0.3\n",
       "elitismo                            10\n",
       "exec_time                      61.9463\n",
       "instance                    u_c_lohi.0\n",
       "selection_method        roulette wheel\n",
       "dtype: object"
      ]
     },
     "execution_count": 17,
     "metadata": {},
     "output_type": "execute_result"
    }
   ],
   "source": [
    "df.loc[df['instance'] == 'u_c_lohi.0'].min()"
   ]
  },
  {
   "cell_type": "code",
   "execution_count": 18,
   "id": "c0be7512",
   "metadata": {},
   "outputs": [
    {
     "data": {
      "text/plain": [
       "jobs                               512\n",
       "machines                            16\n",
       "numInd                             100\n",
       "numGen                             100\n",
       "makespan                        159597\n",
       "to_matrix_percentage               0.3\n",
       "elitismo                            10\n",
       "exec_time                      69.4591\n",
       "instance                    u_c_hilo.0\n",
       "selection_method        roulette wheel\n",
       "dtype: object"
      ]
     },
     "execution_count": 18,
     "metadata": {},
     "output_type": "execute_result"
    }
   ],
   "source": [
    "df.loc[df['instance'] == 'u_c_hilo.0'].min()"
   ]
  },
  {
   "cell_type": "code",
   "execution_count": 19,
   "id": "9d13924c",
   "metadata": {},
   "outputs": [
    {
     "data": {
      "text/plain": [
       "jobs                               512\n",
       "machines                            16\n",
       "numInd                             100\n",
       "numGen                             100\n",
       "makespan                   8.05183e+06\n",
       "to_matrix_percentage               0.3\n",
       "elitismo                            10\n",
       "exec_time                      62.5997\n",
       "instance                    u_c_hihi.0\n",
       "selection_method        roulette wheel\n",
       "dtype: object"
      ]
     },
     "execution_count": 19,
     "metadata": {},
     "output_type": "execute_result"
    }
   ],
   "source": [
    "df.loc[df['instance'] == 'u_c_hihi.0'].min()"
   ]
  },
  {
   "cell_type": "code",
   "execution_count": 20,
   "id": "55d70a55",
   "metadata": {},
   "outputs": [
    {
     "data": {
      "text/plain": [
       "9"
      ]
     },
     "execution_count": 20,
     "metadata": {},
     "output_type": "execute_result"
    }
   ],
   "source": [
    "len(df.loc[df['instance'] == 'u_c_hihi.0'])"
   ]
  },
  {
   "cell_type": "code",
   "execution_count": null,
   "id": "b8da028e",
   "metadata": {},
   "outputs": [],
   "source": []
  }
 ],
 "metadata": {
  "kernelspec": {
   "display_name": "Python 3",
   "language": "python",
   "name": "python3"
  },
  "language_info": {
   "codemirror_mode": {
    "name": "ipython",
    "version": 3
   },
   "file_extension": ".py",
   "mimetype": "text/x-python",
   "name": "python",
   "nbconvert_exporter": "python",
   "pygments_lexer": "ipython3",
   "version": "3.8.10"
  }
 },
 "nbformat": 4,
 "nbformat_minor": 5
}
