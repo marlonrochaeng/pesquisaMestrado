{
 "cells": [
  {
   "cell_type": "code",
   "execution_count": 1,
   "id": "6cd0a135",
   "metadata": {},
   "outputs": [],
   "source": [
    "import pandas as pd\n",
    "import numpy as np\n",
    "pd.set_option('display.max_columns', None)\n",
    "pd.set_option('display.float_format', lambda x: '%.2f' % x)"
   ]
  },
  {
   "cell_type": "code",
   "execution_count": 2,
   "id": "2ba84ac4",
   "metadata": {},
   "outputs": [
    {
     "data": {
      "text/html": [
       "<div>\n",
       "<style scoped>\n",
       "    .dataframe tbody tr th:only-of-type {\n",
       "        vertical-align: middle;\n",
       "    }\n",
       "\n",
       "    .dataframe tbody tr th {\n",
       "        vertical-align: top;\n",
       "    }\n",
       "\n",
       "    .dataframe thead th {\n",
       "        text-align: right;\n",
       "    }\n",
       "</style>\n",
       "<table border=\"1\" class=\"dataframe\">\n",
       "  <thead>\n",
       "    <tr style=\"text-align: right;\">\n",
       "      <th></th>\n",
       "      <th>jobs</th>\n",
       "      <th>machines</th>\n",
       "      <th>numInd</th>\n",
       "      <th>numGen</th>\n",
       "      <th>makespan</th>\n",
       "      <th>to_matrix_percentage</th>\n",
       "      <th>elitismo</th>\n",
       "      <th>exec_time</th>\n",
       "      <th>instance</th>\n",
       "      <th>mutation</th>\n",
       "      <th>selection_method</th>\n",
       "    </tr>\n",
       "  </thead>\n",
       "  <tbody>\n",
       "    <tr>\n",
       "      <th>0</th>\n",
       "      <td>512</td>\n",
       "      <td>16</td>\n",
       "      <td>100</td>\n",
       "      <td>100</td>\n",
       "      <td>101441.07</td>\n",
       "      <td>0.30</td>\n",
       "      <td>10.00</td>\n",
       "      <td>59.81</td>\n",
       "      <td>u_s_hilo.0</td>\n",
       "      <td>0.00</td>\n",
       "      <td>roulette wheel</td>\n",
       "    </tr>\n",
       "    <tr>\n",
       "      <th>1</th>\n",
       "      <td>512</td>\n",
       "      <td>16</td>\n",
       "      <td>100</td>\n",
       "      <td>100</td>\n",
       "      <td>100059.89</td>\n",
       "      <td>0.30</td>\n",
       "      <td>10.00</td>\n",
       "      <td>61.78</td>\n",
       "      <td>u_s_hilo.0</td>\n",
       "      <td>10.00</td>\n",
       "      <td>roulette wheel</td>\n",
       "    </tr>\n",
       "    <tr>\n",
       "      <th>2</th>\n",
       "      <td>512</td>\n",
       "      <td>16</td>\n",
       "      <td>100</td>\n",
       "      <td>100</td>\n",
       "      <td>102064.91</td>\n",
       "      <td>0.30</td>\n",
       "      <td>10.00</td>\n",
       "      <td>61.14</td>\n",
       "      <td>u_s_hilo.0</td>\n",
       "      <td>20.00</td>\n",
       "      <td>roulette wheel</td>\n",
       "    </tr>\n",
       "    <tr>\n",
       "      <th>3</th>\n",
       "      <td>512</td>\n",
       "      <td>16</td>\n",
       "      <td>100</td>\n",
       "      <td>100</td>\n",
       "      <td>102834.45</td>\n",
       "      <td>0.30</td>\n",
       "      <td>10.00</td>\n",
       "      <td>60.63</td>\n",
       "      <td>u_s_hilo.0</td>\n",
       "      <td>30.00</td>\n",
       "      <td>roulette wheel</td>\n",
       "    </tr>\n",
       "    <tr>\n",
       "      <th>4</th>\n",
       "      <td>512</td>\n",
       "      <td>16</td>\n",
       "      <td>100</td>\n",
       "      <td>100</td>\n",
       "      <td>105090.80</td>\n",
       "      <td>0.30</td>\n",
       "      <td>20.00</td>\n",
       "      <td>62.12</td>\n",
       "      <td>u_s_hilo.0</td>\n",
       "      <td>0.00</td>\n",
       "      <td>roulette wheel</td>\n",
       "    </tr>\n",
       "  </tbody>\n",
       "</table>\n",
       "</div>"
      ],
      "text/plain": [
       "   jobs  machines  numInd  numGen  makespan  to_matrix_percentage  elitismo  \\\n",
       "0   512        16     100     100 101441.07                  0.30     10.00   \n",
       "1   512        16     100     100 100059.89                  0.30     10.00   \n",
       "2   512        16     100     100 102064.91                  0.30     10.00   \n",
       "3   512        16     100     100 102834.45                  0.30     10.00   \n",
       "4   512        16     100     100 105090.80                  0.30     20.00   \n",
       "\n",
       "   exec_time    instance  mutation selection_method  \n",
       "0      59.81  u_s_hilo.0      0.00   roulette wheel  \n",
       "1      61.78  u_s_hilo.0     10.00   roulette wheel  \n",
       "2      61.14  u_s_hilo.0     20.00   roulette wheel  \n",
       "3      60.63  u_s_hilo.0     30.00   roulette wheel  \n",
       "4      62.12  u_s_hilo.0      0.00   roulette wheel  "
      ]
     },
     "execution_count": 2,
     "metadata": {},
     "output_type": "execute_result"
    }
   ],
   "source": [
    "df = pd.read_csv('eda_com_heuristicas_e_mut.csv',index_col=0)\n",
    "#df.style.format(\"{:.2f}\")\n",
    "df.head()"
   ]
  },
  {
   "cell_type": "code",
   "execution_count": 18,
   "id": "1839d6cc",
   "metadata": {},
   "outputs": [
    {
     "data": {
      "text/plain": [
       "64.17040081818898"
      ]
     },
     "execution_count": 18,
     "metadata": {},
     "output_type": "execute_result"
    }
   ],
   "source": [
    "df.loc[(df['elitismo'] == 10.0) & (df['numInd'] == 100)]['exec_time'].mean()"
   ]
  },
  {
   "cell_type": "code",
   "execution_count": 19,
   "id": "6f4efee5",
   "metadata": {},
   "outputs": [
    {
     "data": {
      "text/plain": [
       "68.7001226246357"
      ]
     },
     "execution_count": 19,
     "metadata": {},
     "output_type": "execute_result"
    }
   ],
   "source": [
    "df.loc[(df['elitismo'] == 20.0) & (df['numInd'] == 100)]['exec_time'].mean()"
   ]
  },
  {
   "cell_type": "code",
   "execution_count": 20,
   "id": "25178c21",
   "metadata": {},
   "outputs": [
    {
     "data": {
      "text/plain": [
       "60.08259676645199"
      ]
     },
     "execution_count": 20,
     "metadata": {},
     "output_type": "execute_result"
    }
   ],
   "source": [
    "df.loc[(df['elitismo'] == 30.0) & (df['numInd'] == 100)]['exec_time'].mean()"
   ]
  },
  {
   "cell_type": "code",
   "execution_count": 21,
   "id": "5910ea8b",
   "metadata": {},
   "outputs": [
    {
     "data": {
      "text/plain": [
       "273.5956701521288"
      ]
     },
     "execution_count": 21,
     "metadata": {},
     "output_type": "execute_result"
    }
   ],
   "source": [
    "df.loc[(df['elitismo'] == 10.0) & (df['numInd'] == 200)]['exec_time'].mean()"
   ]
  },
  {
   "cell_type": "code",
   "execution_count": 22,
   "id": "cd586446",
   "metadata": {},
   "outputs": [
    {
     "data": {
      "text/plain": [
       "236.83156634654318"
      ]
     },
     "execution_count": 22,
     "metadata": {},
     "output_type": "execute_result"
    }
   ],
   "source": [
    "df.loc[(df['elitismo'] == 20.0) & (df['numInd'] == 200)]['exec_time'].mean()"
   ]
  },
  {
   "cell_type": "code",
   "execution_count": 23,
   "id": "3de38008",
   "metadata": {},
   "outputs": [
    {
     "data": {
      "text/plain": [
       "242.07687579946858"
      ]
     },
     "execution_count": 23,
     "metadata": {},
     "output_type": "execute_result"
    }
   ],
   "source": [
    "df.loc[(df['elitismo'] == 30.0) & (df['numInd'] == 200)]['exec_time'].mean()"
   ]
  },
  {
   "cell_type": "code",
   "execution_count": 24,
   "id": "e281d866",
   "metadata": {},
   "outputs": [
    {
     "data": {
      "text/plain": [
       "64.34350079960294"
      ]
     },
     "execution_count": 24,
     "metadata": {},
     "output_type": "execute_result"
    }
   ],
   "source": [
    "df.loc[(df['mutation'] == 0.0) & (df['numInd'] == 100)]['exec_time'].mean()"
   ]
  },
  {
   "cell_type": "code",
   "execution_count": 25,
   "id": "28df7998",
   "metadata": {},
   "outputs": [
    {
     "data": {
      "text/plain": [
       "64.43984741634793"
      ]
     },
     "execution_count": 25,
     "metadata": {},
     "output_type": "execute_result"
    }
   ],
   "source": [
    "df.loc[(df['mutation'] == 10.0) & (df['numInd'] == 100)]['exec_time'].mean()"
   ]
  },
  {
   "cell_type": "code",
   "execution_count": 26,
   "id": "efd4cfff",
   "metadata": {},
   "outputs": [
    {
     "data": {
      "text/plain": [
       "64.17727696564462"
      ]
     },
     "execution_count": 26,
     "metadata": {},
     "output_type": "execute_result"
    }
   ],
   "source": [
    "df.loc[(df['mutation'] == 20.0) & (df['numInd'] == 100)]['exec_time'].mean()"
   ]
  },
  {
   "cell_type": "code",
   "execution_count": 27,
   "id": "b77e3490",
   "metadata": {},
   "outputs": [
    {
     "data": {
      "text/plain": [
       "64.31770673642556"
      ]
     },
     "execution_count": 27,
     "metadata": {},
     "output_type": "execute_result"
    }
   ],
   "source": [
    "df.loc[(df['numInd'] == 100)]['exec_time'].mean()"
   ]
  },
  {
   "cell_type": "code",
   "execution_count": 28,
   "id": "e3d2f259",
   "metadata": {},
   "outputs": [
    {
     "data": {
      "text/plain": [
       "250.96938437188166"
      ]
     },
     "execution_count": 28,
     "metadata": {},
     "output_type": "execute_result"
    }
   ],
   "source": [
    "df.loc[(df['numInd'] == 200)]['exec_time'].mean()"
   ]
  },
  {
   "cell_type": "code",
   "execution_count": null,
   "id": "a1fd3d5a",
   "metadata": {},
   "outputs": [],
   "source": []
  }
 ],
 "metadata": {
  "kernelspec": {
   "display_name": "Python 3 (ipykernel)",
   "language": "python",
   "name": "python3"
  },
  "language_info": {
   "codemirror_mode": {
    "name": "ipython",
    "version": 3
   },
   "file_extension": ".py",
   "mimetype": "text/x-python",
   "name": "python",
   "nbconvert_exporter": "python",
   "pygments_lexer": "ipython3",
   "version": "3.8.2"
  }
 },
 "nbformat": 4,
 "nbformat_minor": 5
}
