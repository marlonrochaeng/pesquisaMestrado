{
 "cells": [
  {
   "cell_type": "code",
   "execution_count": 1,
   "id": "a668820d",
   "metadata": {},
   "outputs": [],
   "source": [
    "import pandas as pd"
   ]
  },
  {
   "cell_type": "code",
   "execution_count": 2,
   "id": "e2026627",
   "metadata": {},
   "outputs": [
    {
     "data": {
      "text/html": [
       "<div>\n",
       "<style scoped>\n",
       "    .dataframe tbody tr th:only-of-type {\n",
       "        vertical-align: middle;\n",
       "    }\n",
       "\n",
       "    .dataframe tbody tr th {\n",
       "        vertical-align: top;\n",
       "    }\n",
       "\n",
       "    .dataframe thead th {\n",
       "        text-align: right;\n",
       "    }\n",
       "</style>\n",
       "<table border=\"1\" class=\"dataframe\">\n",
       "  <thead>\n",
       "    <tr style=\"text-align: right;\">\n",
       "      <th></th>\n",
       "      <th>jobs</th>\n",
       "      <th>machines</th>\n",
       "      <th>numInd</th>\n",
       "      <th>numGen</th>\n",
       "      <th>makespan</th>\n",
       "      <th>to_matrix_percentage</th>\n",
       "      <th>elitismo</th>\n",
       "      <th>exec_time</th>\n",
       "      <th>instance</th>\n",
       "      <th>selection_method</th>\n",
       "    </tr>\n",
       "  </thead>\n",
       "  <tbody>\n",
       "    <tr>\n",
       "      <th>0</th>\n",
       "      <td>512</td>\n",
       "      <td>16</td>\n",
       "      <td>100</td>\n",
       "      <td>100</td>\n",
       "      <td>8388552.021</td>\n",
       "      <td>0.300</td>\n",
       "      <td>10.000</td>\n",
       "      <td>68.442</td>\n",
       "      <td>u_c_hihi.0</td>\n",
       "      <td>roulette wheel</td>\n",
       "    </tr>\n",
       "    <tr>\n",
       "      <th>1</th>\n",
       "      <td>512</td>\n",
       "      <td>16</td>\n",
       "      <td>100</td>\n",
       "      <td>100</td>\n",
       "      <td>8226566.254</td>\n",
       "      <td>0.300</td>\n",
       "      <td>20.000</td>\n",
       "      <td>73.078</td>\n",
       "      <td>u_c_hihi.0</td>\n",
       "      <td>roulette wheel</td>\n",
       "    </tr>\n",
       "    <tr>\n",
       "      <th>2</th>\n",
       "      <td>512</td>\n",
       "      <td>16</td>\n",
       "      <td>100</td>\n",
       "      <td>100</td>\n",
       "      <td>8858689.855</td>\n",
       "      <td>0.300</td>\n",
       "      <td>30.000</td>\n",
       "      <td>66.065</td>\n",
       "      <td>u_c_hihi.0</td>\n",
       "      <td>roulette wheel</td>\n",
       "    </tr>\n",
       "    <tr>\n",
       "      <th>3</th>\n",
       "      <td>512</td>\n",
       "      <td>16</td>\n",
       "      <td>100</td>\n",
       "      <td>100</td>\n",
       "      <td>8388336.673</td>\n",
       "      <td>0.500</td>\n",
       "      <td>10.000</td>\n",
       "      <td>72.944</td>\n",
       "      <td>u_c_hihi.0</td>\n",
       "      <td>roulette wheel</td>\n",
       "    </tr>\n",
       "    <tr>\n",
       "      <th>4</th>\n",
       "      <td>512</td>\n",
       "      <td>16</td>\n",
       "      <td>100</td>\n",
       "      <td>100</td>\n",
       "      <td>8855480.875</td>\n",
       "      <td>0.500</td>\n",
       "      <td>20.000</td>\n",
       "      <td>92.118</td>\n",
       "      <td>u_c_hihi.0</td>\n",
       "      <td>roulette wheel</td>\n",
       "    </tr>\n",
       "  </tbody>\n",
       "</table>\n",
       "</div>"
      ],
      "text/plain": [
       "   jobs  machines  numInd  numGen    makespan  to_matrix_percentage  elitismo  \\\n",
       "0   512        16     100     100 8388552.021                 0.300    10.000   \n",
       "1   512        16     100     100 8226566.254                 0.300    20.000   \n",
       "2   512        16     100     100 8858689.855                 0.300    30.000   \n",
       "3   512        16     100     100 8388336.673                 0.500    10.000   \n",
       "4   512        16     100     100 8855480.875                 0.500    20.000   \n",
       "\n",
       "   exec_time    instance selection_method  \n",
       "0     68.442  u_c_hihi.0   roulette wheel  \n",
       "1     73.078  u_c_hihi.0   roulette wheel  \n",
       "2     66.065  u_c_hihi.0   roulette wheel  \n",
       "3     72.944  u_c_hihi.0   roulette wheel  \n",
       "4     92.118  u_c_hihi.0   roulette wheel  "
      ]
     },
     "execution_count": 2,
     "metadata": {},
     "output_type": "execute_result"
    }
   ],
   "source": [
    "df = pd.read_csv('results_only_minmin.csv',index_col=0)\n",
    "df.style.format(\"{:.2f}\")\n",
    "pd.set_option('display.float_format', lambda x: '%.3f' % x)\n",
    "df.head()"
   ]
  },
  {
   "cell_type": "code",
   "execution_count": 3,
   "id": "8f1826d1",
   "metadata": {},
   "outputs": [
    {
     "data": {
      "text/plain": [
       "jobs                               512\n",
       "machines                            16\n",
       "numInd                             100\n",
       "numGen                             100\n",
       "makespan                      5339.676\n",
       "to_matrix_percentage             0.300\n",
       "elitismo                        10.000\n",
       "exec_time                       59.662\n",
       "instance                    u_c_lolo.0\n",
       "selection_method        roulette wheel\n",
       "dtype: object"
      ]
     },
     "execution_count": 3,
     "metadata": {},
     "output_type": "execute_result"
    }
   ],
   "source": [
    "df.loc[df['instance'] == 'u_c_lolo.0'].min()"
   ]
  },
  {
   "cell_type": "code",
   "execution_count": 4,
   "id": "b31498c0",
   "metadata": {},
   "outputs": [
    {
     "data": {
      "text/plain": [
       "jobs                               512\n",
       "machines                            16\n",
       "numInd                             100\n",
       "numGen                             100\n",
       "makespan                    267658.631\n",
       "to_matrix_percentage             0.300\n",
       "elitismo                        10.000\n",
       "exec_time                       61.413\n",
       "instance                    u_c_lohi.0\n",
       "selection_method        roulette wheel\n",
       "dtype: object"
      ]
     },
     "execution_count": 4,
     "metadata": {},
     "output_type": "execute_result"
    }
   ],
   "source": [
    "df.loc[df['instance'] == 'u_c_lohi.0'].min()"
   ]
  },
  {
   "cell_type": "code",
   "execution_count": 5,
   "id": "c0be7512",
   "metadata": {},
   "outputs": [
    {
     "data": {
      "text/plain": [
       "jobs                               512\n",
       "machines                            16\n",
       "numInd                             100\n",
       "numGen                             100\n",
       "makespan                    158460.582\n",
       "to_matrix_percentage             0.300\n",
       "elitismo                        10.000\n",
       "exec_time                       61.912\n",
       "instance                    u_c_hilo.0\n",
       "selection_method        roulette wheel\n",
       "dtype: object"
      ]
     },
     "execution_count": 5,
     "metadata": {},
     "output_type": "execute_result"
    }
   ],
   "source": [
    "df.loc[df['instance'] == 'u_c_hilo.0'].min()"
   ]
  },
  {
   "cell_type": "code",
   "execution_count": 6,
   "id": "9d13924c",
   "metadata": {},
   "outputs": [
    {
     "data": {
      "text/plain": [
       "jobs                               512\n",
       "machines                            16\n",
       "numInd                             100\n",
       "numGen                             100\n",
       "makespan                   8117967.821\n",
       "to_matrix_percentage             0.300\n",
       "elitismo                        10.000\n",
       "exec_time                       66.065\n",
       "instance                    u_c_hihi.0\n",
       "selection_method        roulette wheel\n",
       "dtype: object"
      ]
     },
     "execution_count": 6,
     "metadata": {},
     "output_type": "execute_result"
    }
   ],
   "source": [
    "df.loc[df['instance'] == 'u_c_hihi.0'].min()"
   ]
  },
  {
   "cell_type": "code",
   "execution_count": null,
   "id": "55d70a55",
   "metadata": {},
   "outputs": [],
   "source": []
  },
  {
   "cell_type": "code",
   "execution_count": null,
   "id": "b8da028e",
   "metadata": {},
   "outputs": [],
   "source": []
  },
  {
   "cell_type": "code",
   "execution_count": null,
   "id": "89bcfc61",
   "metadata": {},
   "outputs": [],
   "source": []
  }
 ],
 "metadata": {
  "kernelspec": {
   "display_name": "Python 3",
   "language": "python",
   "name": "python3"
  },
  "language_info": {
   "codemirror_mode": {
    "name": "ipython",
    "version": 3
   },
   "file_extension": ".py",
   "mimetype": "text/x-python",
   "name": "python",
   "nbconvert_exporter": "python",
   "pygments_lexer": "ipython3",
   "version": "3.8.10"
  }
 },
 "nbformat": 4,
 "nbformat_minor": 5
}
